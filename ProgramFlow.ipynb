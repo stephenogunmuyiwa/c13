{
 "cells": [
  {
   "cell_type": "markdown",
   "metadata": {},
   "source": [
    "## PROGRAM FLOW"
   ]
  },
  {
   "cell_type": "raw",
   "metadata": {},
   "source": [
    "Program flow is the order in which the set of instructions (program) are executed or evaluated. Based on how expressions evaluate, a program can decide to skip instructions, repeat them, or choose one of several instructions to run. Infact, you almost never want your programs to start from the first line of code and simply execute every line, straight to the end.\n",
    "Control flow statements decide the Python instructions to execute under certain conditions. "
   ]
  },
  {
   "cell_type": "markdown",
   "metadata": {},
   "source": [
    "## COMPARISON OPERATORS"
   ]
  },
  {
   "cell_type": "markdown",
   "metadata": {},
   "source": [
    "Comparison operators compare two values and they evaluate to a Boolean value (True or False) depending on the values being compared.\n",
    "\n",
    "|**OPERATOR**|**NAME**|**DESCRIPTION**|**EXAMPLE**|\n",
    "|--------|--------|--------|--------|\n",
    "|==|Equal|Returns True if both values are equal, otherwise returns False|x == 3|\n",
    "|!=|Not equal |Returns True if both values are not equal, otherwise returns False|x != 3| \n",
    "|>|Greater than|Returns True if the value on the left is greater than the value on the right, otherwise returns False|x > 3|\n",
    "|<|Less than|Returns True if the value on the left is less than the value on the right, otherwise returns False|x < 3|\n",
    "|>=|Greater than or equal to|Returns True if the value on the left is greater than or equal to the value on the right, otherwise returns False|x >= 3|\n",
    "|<=|Less than or equal to|Returns True if the value on the left is less than or equal to the value on the right, otherwise returns False|x <= 3|"
   ]
  },
  {
   "cell_type": "code",
   "execution_count": 1,
   "metadata": {},
   "outputs": [
    {
     "data": {
      "text/plain": [
       "False"
      ]
     },
     "execution_count": 1,
     "metadata": {},
     "output_type": "execute_result"
    }
   ],
   "source": [
    "age = 10 \n",
    "age > 18"
   ]
  },
  {
   "cell_type": "code",
   "execution_count": 2,
   "metadata": {},
   "outputs": [
    {
     "data": {
      "text/plain": [
       "True"
      ]
     },
     "execution_count": 2,
     "metadata": {},
     "output_type": "execute_result"
    }
   ],
   "source": [
    "2 == 2"
   ]
  },
  {
   "cell_type": "code",
   "execution_count": 3,
   "metadata": {},
   "outputs": [
    {
     "data": {
      "text/plain": [
       "False"
      ]
     },
     "execution_count": 3,
     "metadata": {},
     "output_type": "execute_result"
    }
   ],
   "source": [
    "'age' =='year'"
   ]
  },
  {
   "cell_type": "code",
   "execution_count": 4,
   "metadata": {},
   "outputs": [
    {
     "data": {
      "text/plain": [
       "False"
      ]
     },
     "execution_count": 4,
     "metadata": {},
     "output_type": "execute_result"
    }
   ],
   "source": [
    "'age' == 'Age'"
   ]
  },
  {
   "cell_type": "markdown",
   "metadata": {},
   "source": [
    "## BOOLEAN OPERATORS"
   ]
  },
  {
   "cell_type": "markdown",
   "metadata": {},
   "source": [
    "Boolean operators are used to compare Boolean values. There are three Boolean operators in Python (**and**, **or** and **not**) and they evaluate to a Boolean value. \n",
    "The **and** and **or** operators are considered **binary operators** beacause they always operate on two Boolean values or Boolean expressions. The **not** operator is considered a **unary operator** as it operates on only one Boolean value or expression. "
   ]
  },
  {
   "cell_type": "markdown",
   "metadata": {},
   "source": [
    "The **and** operator evaluates to **True** if and only if both Boolean values are **True** or both Boolean expressions evaluate to **True**. Let's look at the **Truth Table** for the **and** operator which shows every possible result for the **and** Boolean operator. \n",
    "\n",
    "|**EXPRESSION**|**RESULT**|**EXAMPLE**|\n",
    "|--------------|----------|----------|\n",
    "|True and True| True|(5 > 3) and (0 < 5)|\n",
    "|True and False| False|(5 > 3) and (0 < -5)|\n",
    "|False and True| False|(5 > 30) and (0 < 5)|\n",
    "|False and False| False|(5 > 30) and (0 < -5)|"
   ]
  },
  {
   "cell_type": "code",
   "execution_count": null,
   "metadata": {},
   "outputs": [],
   "source": [
    "(5 > 3) and (0 < 5)"
   ]
  },
  {
   "cell_type": "code",
   "execution_count": null,
   "metadata": {},
   "outputs": [],
   "source": [
    "(5 > 3) and (0 < -5)"
   ]
  },
  {
   "cell_type": "markdown",
   "metadata": {},
   "source": [
    "The **or** operator evaluates to **True** if and only if either of the Boolean values is **True** or either of the Boolean expressions evaluates to **True**. If both values are **False**, the **or** operator evaluates to **False**. Let's look at the **Truth Table** for the **or** operator which shows every possible result for the **or** Boolean operator. \n",
    "\n",
    "|**EXPRESSION**|**RESULT**|**EXAMPLE**|\n",
    "|--------------|----------|----------|\n",
    "|True or True| True|(5 > 3) or (0 < 20)|\n",
    "|True or False| True|(5 > 3) or (0 < -20)|\n",
    "|False or True| True|(5 > 30) or (0 < 20)|\n",
    "|False or False| False|(5 > 30) or (0 < -20)|"
   ]
  },
  {
   "cell_type": "code",
   "execution_count": null,
   "metadata": {},
   "outputs": [],
   "source": [
    "(5 > 3) or (0 < 20)"
   ]
  },
  {
   "cell_type": "code",
   "execution_count": null,
   "metadata": {},
   "outputs": [],
   "source": [
    "(5 > 30) or (0 < -20)"
   ]
  },
  {
   "cell_type": "markdown",
   "metadata": {},
   "source": [
    "The **not** operator evaluates to the opposite of the Boolean value. Below is the **Truth Table** for the **not** Boolean operator.\n",
    "\n",
    "|**EXPRESSION**|**RESULT**|**EXAMPLE**|\n",
    "|--------------|----------|----------|\n",
    "|not True | False|not (3 > 2)|\n",
    "|not False| True|not (3 > 20)|\n"
   ]
  },
  {
   "cell_type": "code",
   "execution_count": null,
   "metadata": {},
   "outputs": [],
   "source": [
    "not(3 > 2)"
   ]
  },
  {
   "cell_type": "code",
   "execution_count": null,
   "metadata": {},
   "outputs": [],
   "source": [
    "not (3 > 20)"
   ]
  },
  {
   "cell_type": "markdown",
   "metadata": {},
   "source": [
    "## CONTROL FLOW STATEMENTS"
   ]
  },
  {
   "cell_type": "markdown",
   "metadata": {},
   "source": [
    "Control flow statements are made up of two parts; the **condition** and the **block of code**.  \n",
    "The **condition** is a **Boolean expression** that evaluates to True or False and based on this condition, a control flow statement decides what to do.  \n",
    "The **Block of code** is a group of code, usually indented, to be executed based on the condition.\n"
   ]
  },
  {
   "cell_type": "markdown",
   "metadata": {},
   "source": [
    "## IF STATEMENT"
   ]
  },
  {
   "cell_type": "markdown",
   "metadata": {},
   "source": [
    "The **if** statement is the most common type of control flow statement. The **block of code** immediately after the if statement is executed if the **condition** is **True** otherwise, it is skipped. Below is an example of the if statement.\n"
   ]
  },
  {
   "cell_type": "code",
   "execution_count": 7,
   "metadata": {},
   "outputs": [
    {
     "name": "stdout",
     "output_type": "stream",
     "text": [
      "end of if statement\n"
     ]
    }
   ],
   "source": [
    "age = 17\n",
    "if (age >= 18):\n",
    "    print('You are an adult')\n",
    "print('end of if statement')"
   ]
  },
  {
   "cell_type": "markdown",
   "metadata": {},
   "source": [
    "## IF / ELSE STATEMENT"
   ]
  },
  {
   "cell_type": "markdown",
   "metadata": {},
   "source": [
    "An **if / else** statement gives us two possibilities. The block of code immediately after the **else** statement is executed if the **condition** is **False**."
   ]
  },
  {
   "cell_type": "code",
   "execution_count": 9,
   "metadata": {},
   "outputs": [
    {
     "name": "stdout",
     "output_type": "stream",
     "text": [
      "You are an adult.\n"
     ]
    }
   ],
   "source": [
    "age = 36\n",
    "if age >= 18:\n",
    "    print('You are an adult.')\n",
    "else:\n",
    "    print('You are young.')"
   ]
  },
  {
   "cell_type": "markdown",
   "metadata": {},
   "source": [
    "We can have a **nested** if or if / else statements. Let's see an example."
   ]
  },
  {
   "cell_type": "code",
   "execution_count": 18,
   "metadata": {},
   "outputs": [
    {
     "name": "stdout",
     "output_type": "stream",
     "text": [
      "-9, is a negative number.\n"
     ]
    }
   ],
   "source": [
    "a = -9\n",
    "if a >= 0:\n",
    "    if (a % 2 == 0):\n",
    "        print(a, 'is even.')\n",
    "    else:\n",
    "        print(a, 'is odd.')\n",
    "else:\n",
    "    print( f'{a}, is a negative number.')"
   ]
  },
  {
   "cell_type": "markdown",
   "metadata": {},
   "source": [
    "## IF / ELIF STATEMENT"
   ]
  },
  {
   "cell_type": "markdown",
   "metadata": {},
   "source": [
    "Unlike the if / else statement, the **if / elif** gives us more than two possibilities. The **elif** simply means 'else if' and it immediately follows an **if** or another **elif** statement. We can also have an else statement with an if/elif statement."
   ]
  },
  {
   "cell_type": "code",
   "execution_count": 21,
   "metadata": {},
   "outputs": [
    {
     "name": "stdout",
     "output_type": "stream",
     "text": [
      "GRADE: MERIT\n"
     ]
    }
   ],
   "source": [
    "score = 55\n",
    "if ((score >= 0) and (score < 40)):\n",
    "    grade = 'FAIL'\n",
    "elif (score >= 40 and score < 55):\n",
    "    grade = 'PASS'\n",
    "elif (score >= 55  and score < 70):\n",
    "    grade = 'MERIT'\n",
    "elif (score >= 70):\n",
    "    grade = 'DISTINCTION'\n",
    "else:\n",
    "    grade = 'INVALID'\n",
    "    \n",
    "print('GRADE:', grade)\n",
    "    "
   ]
  },
  {
   "cell_type": "markdown",
   "metadata": {},
   "source": [
    "The above program checks the value stored in the score variable and assigns a value to the grade variable based on range of the score value."
   ]
  },
  {
   "cell_type": "markdown",
   "metadata": {},
   "source": [
    "## LOOPS"
   ]
  },
  {
   "cell_type": "markdown",
   "metadata": {},
   "source": [
    "**Loop** is one of the major tool of control flow that allows us to execute a block of code many times as long as the loop **condition** is **True**. There are two major types of loop: \n",
    "1. while loop\n",
    "2. for loop"
   ]
  },
  {
   "cell_type": "markdown",
   "metadata": {},
   "source": [
    "## WHILE LOOP"
   ]
  },
  {
   "cell_type": "raw",
   "metadata": {},
   "source": [
    "Generally, the while loop is used to keep looping through a block of code while the condition is True. It can also be used to loop through a block of code a certain number of times as seen in the code below."
   ]
  },
  {
   "cell_type": "code",
   "execution_count": 24,
   "metadata": {},
   "outputs": [
    {
     "name": "stdout",
     "output_type": "stream",
     "text": [
      "5\n",
      "6\n",
      "7\n",
      "8\n",
      "9\n",
      "10\n"
     ]
    }
   ],
   "source": [
    "x = 5\n",
    "while(x <= 10):\n",
    "    print(x)\n",
    "    x += 1"
   ]
  },
  {
   "cell_type": "markdown",
   "metadata": {},
   "source": [
    "As seen in the example above, In a while loop, we need to have initialised a variable before the while statement. In the case of our example, **'a'** was initialised to 5. Another important thing to note is that the variable must be incremented to prevent the loop from executing forever (infinite loop).  \n",
    "An **infinite loop** is a loop that never terminates. it is useful in client / server programming so that servers can continually communicate or receive requests from its clients."
   ]
  },
  {
   "cell_type": "markdown",
   "metadata": {},
   "source": [
    "## THE BREAK STATEMENT"
   ]
  },
  {
   "cell_type": "markdown",
   "metadata": {},
   "source": [
    "The **break** statement is used to **exit** a loop when the loop condition is still **True**."
   ]
  },
  {
   "cell_type": "code",
   "execution_count": 1,
   "metadata": {},
   "outputs": [
    {
     "name": "stdin",
     "output_type": "stream",
     "text": [
      "Guess a number: 15\n"
     ]
    },
    {
     "name": "stdout",
     "output_type": "stream",
     "text": [
      "try again\n"
     ]
    },
    {
     "name": "stdin",
     "output_type": "stream",
     "text": [
      "Guess a number: 10\n"
     ]
    },
    {
     "name": "stdout",
     "output_type": "stream",
     "text": [
      "try again\n"
     ]
    },
    {
     "name": "stdin",
     "output_type": "stream",
     "text": [
      "Guess a number: 5\n"
     ]
    },
    {
     "name": "stdout",
     "output_type": "stream",
     "text": [
      "Yay!! Your guess was right.\n"
     ]
    }
   ],
   "source": [
    "my_number = 5\n",
    "while True:\n",
    "    number = int(input('Guess a number:'))\n",
    "    if (number == my_number):\n",
    "        print('Yay!! Your guess was right.')\n",
    "        break\n",
    "    else:\n",
    "        print('try again')"
   ]
  },
  {
   "cell_type": "markdown",
   "metadata": {},
   "source": [
    "## THE CONTINUE STATEMENT"
   ]
  },
  {
   "cell_type": "markdown",
   "metadata": {},
   "source": [
    "The **continue** statement is used to stop the current iteration and move on to the next iteration. When the program execution reaches a continue statement, the program execution immediately jumps back to the start of the loop and reevaluates the loop’s condition.   \n",
    "Suppose we want to print odd numbers between 1 and 50, we can use a continue statement to achieve it.\n"
   ]
  },
  {
   "cell_type": "code",
   "execution_count": 2,
   "metadata": {},
   "outputs": [
    {
     "name": "stdout",
     "output_type": "stream",
     "text": [
      "1\n",
      "3\n",
      "5\n",
      "7\n",
      "9\n",
      "11\n",
      "13\n",
      "15\n",
      "17\n",
      "19\n",
      "21\n",
      "23\n",
      "25\n",
      "27\n",
      "29\n",
      "31\n",
      "33\n",
      "35\n",
      "37\n",
      "39\n",
      "41\n",
      "43\n",
      "45\n",
      "47\n",
      "49\n"
     ]
    }
   ],
   "source": [
    "a = 0\n",
    "while (a < 50):\n",
    "    a += 1\n",
    "    if(a % 2 == 0):\n",
    "        continue\n",
    "    print(a) "
   ]
  },
  {
   "cell_type": "code",
   "execution_count": 4,
   "metadata": {},
   "outputs": [
    {
     "data": {
      "text/plain": [
       "0"
      ]
     },
     "execution_count": 4,
     "metadata": {},
     "output_type": "execute_result"
    }
   ],
   "source": [
    "0%2"
   ]
  },
  {
   "cell_type": "markdown",
   "metadata": {},
   "source": [
    "## TRUTHY AND FALSY VALUES"
   ]
  },
  {
   "cell_type": "markdown",
   "metadata": {},
   "source": [
    "In Python and some other programming languages, values evaluate to either **True** or **False**. As the name implies, **Truthy** values are values that evaluate to **True** and **Falsy** values are values that evaluate to **False**. \n",
    "**Falsy values** are 0, 0.0, \"\" (the empty string), any empty data structure, None and False. Other values are **Truthy values**.  \n",
    "We can use falsy or truthy values in an if or while conditional statement. let's see an example."
   ]
  },
  {
   "cell_type": "code",
   "execution_count": 1,
   "metadata": {},
   "outputs": [
    {
     "name": "stdin",
     "output_type": "stream",
     "text": [
      "What is your name? \n",
      "What is your name? \n",
      "What is your name? Aminat\n"
     ]
    },
    {
     "name": "stdout",
     "output_type": "stream",
     "text": [
      "Aminat\n"
     ]
    }
   ],
   "source": [
    "name = \"\"\n",
    "while (not name):\n",
    "    name = input('What is your name?')\n",
    "print(name)"
   ]
  },
  {
   "cell_type": "code",
   "execution_count": 2,
   "metadata": {},
   "outputs": [
    {
     "name": "stdin",
     "output_type": "stream",
     "text": [
      "What is your name? \n",
      "What is your name? Aminat\n"
     ]
    },
    {
     "name": "stdout",
     "output_type": "stream",
     "text": [
      "Aminat\n"
     ]
    }
   ],
   "source": [
    "while True:\n",
    "    name = input('What is your name?')\n",
    "    if name != \"\":\n",
    "        break\n",
    "print(name)"
   ]
  },
  {
   "cell_type": "code",
   "execution_count": 7,
   "metadata": {},
   "outputs": [
    {
     "data": {
      "text/plain": [
       "True"
      ]
     },
     "execution_count": 7,
     "metadata": {},
     "output_type": "execute_result"
    }
   ],
   "source": [
    "'Aminat' != ''"
   ]
  },
  {
   "cell_type": "markdown",
   "metadata": {},
   "source": [
    "In the code above, the name variable contains an empty string which is a falsy value and a falsy value would evaluate to false. So the condition `not name` would evaluate to True. Hence the while block of code would be executed."
   ]
  },
  {
   "cell_type": "code",
   "execution_count": 8,
   "metadata": {},
   "outputs": [
    {
     "name": "stdout",
     "output_type": "stream",
     "text": [
      "Number is 10\n"
     ]
    }
   ],
   "source": [
    "num = 10\n",
    "if num:\n",
    "    print('Number is', num)    "
   ]
  },
  {
   "cell_type": "code",
   "execution_count": 7,
   "metadata": {},
   "outputs": [
    {
     "name": "stdout",
     "output_type": "stream",
     "text": [
      "Number is 10\n"
     ]
    }
   ],
   "source": [
    "num = 10\n",
    "if num !=0:\n",
    "    print('Number is', num)    "
   ]
  },
  {
   "cell_type": "markdown",
   "metadata": {},
   "source": [
    "In the code above the num variable is assigned a value of 0 and 0 is a falsy value. So it means the condition num would evaluate to false. Hence, the if block of code will not be executed. If will change the value of num to an integer value other than 0, the if block of code would be executed because all integer number other than zero are truthy values which evaluates to True. "
   ]
  },
  {
   "cell_type": "markdown",
   "metadata": {},
   "source": [
    "## THE ELSE STATEMENT"
   ]
  },
  {
   "cell_type": "markdown",
   "metadata": {},
   "source": [
    "The **else** statement can also be used with **loops**. The else part is executed when the condition is no longer **True.**"
   ]
  },
  {
   "cell_type": "code",
   "execution_count": 10,
   "metadata": {},
   "outputs": [
    {
     "name": "stdout",
     "output_type": "stream",
     "text": [
      "a is no longer less than 6\n"
     ]
    }
   ],
   "source": [
    "a = 10\n",
    "while ( a < 6):\n",
    "    print (a)\n",
    "    a += 1\n",
    "else:\n",
    "    print ('a is no longer less than 6')"
   ]
  },
  {
   "cell_type": "markdown",
   "metadata": {},
   "source": [
    "## FOR LOOPS"
   ]
  },
  {
   "cell_type": "markdown",
   "metadata": {},
   "source": [
    "**For loops** are used for **iterating** over a **sequence** (e.g. strings, lists, dictionaries, tuples, lines in a file etc). \n",
    "We can use for loop and the range() function to loop through a block of code a certain number of times. "
   ]
  },
  {
   "cell_type": "code",
   "execution_count": 11,
   "metadata": {},
   "outputs": [
    {
     "name": "stdout",
     "output_type": "stream",
     "text": [
      "B\n",
      "r\n",
      "i\n",
      "a\n",
      "n\n",
      "End of loop\n"
     ]
    }
   ],
   "source": [
    "name = 'Brian'\n",
    "for character in name:\n",
    "    print(character)\n",
    "    \n",
    "print('End of loop')"
   ]
  },
  {
   "cell_type": "markdown",
   "metadata": {},
   "source": [
    "In the above example, we used the for loop to iterate through the string and to print each cahracter in the string. As used in the code above,'character' is just a variable name, we could use any variable name like a, letter, alphabet etc. We can also use for loops to iterate through a list. We would discuss lists and other data structures later in the course."
   ]
  },
  {
   "cell_type": "code",
   "execution_count": 12,
   "metadata": {},
   "outputs": [
    {
     "name": "stdout",
     "output_type": "stream",
     "text": [
      "red\n",
      "blue\n",
      "green\n",
      "yellow\n"
     ]
    }
   ],
   "source": [
    "colors = ['red', 'blue', 'green', 'yellow']\n",
    "for c in colors:\n",
    "    print (c)"
   ]
  },
  {
   "cell_type": "markdown",
   "metadata": {},
   "source": [
    "Let's see an example of using the range() function with for loop to print even numbers between 1 and 15."
   ]
  },
  {
   "cell_type": "code",
   "execution_count": 14,
   "metadata": {},
   "outputs": [
    {
     "data": {
      "text/plain": [
       "[1, 3, 5, 7, 9, 11]"
      ]
     },
     "execution_count": 14,
     "metadata": {},
     "output_type": "execute_result"
    }
   ],
   "source": [
    "#range(start = 0, end, step = 1)\n",
    "list(range(1,12, 2))\n"
   ]
  },
  {
   "cell_type": "code",
   "execution_count": 14,
   "metadata": {},
   "outputs": [
    {
     "name": "stdout",
     "output_type": "stream",
     "text": [
      "1\n",
      "3\n",
      "5\n",
      "7\n",
      "9\n",
      "11\n",
      "13\n"
     ]
    }
   ],
   "source": [
    "for i in range(1, 15):\n",
    "    if (i % 2 == 0):\n",
    "        continue\n",
    "    print(i)"
   ]
  },
  {
   "cell_type": "code",
   "execution_count": 15,
   "metadata": {},
   "outputs": [
    {
     "name": "stdout",
     "output_type": "stream",
     "text": [
      "10\n",
      "9\n",
      "8\n",
      "7\n",
      "6\n",
      "5\n",
      "4\n",
      "3\n"
     ]
    }
   ],
   "source": [
    "for a in range(10, 2, -1):\n",
    "    print(a)"
   ]
  },
  {
   "cell_type": "markdown",
   "metadata": {},
   "source": [
    "Another way of writing the above code using the range() function is:"
   ]
  },
  {
   "cell_type": "code",
   "execution_count": 17,
   "metadata": {},
   "outputs": [
    {
     "name": "stdout",
     "output_type": "stream",
     "text": [
      "1\n",
      "3\n",
      "5\n",
      "7\n",
      "9\n",
      "11\n",
      "13\n"
     ]
    }
   ],
   "source": [
    "for i in range(1,15,2):\n",
    "    print(i)"
   ]
  },
  {
   "cell_type": "markdown",
   "metadata": {},
   "source": [
    "Just like **while loops**, **break**, **continue** and **else** statements can be used in **for loops**. \n"
   ]
  },
  {
   "cell_type": "code",
   "execution_count": 18,
   "metadata": {},
   "outputs": [
    {
     "name": "stdout",
     "output_type": "stream",
     "text": [
      "banana\n",
      "mango\n",
      "orange\n",
      "grape\n"
     ]
    }
   ],
   "source": [
    "fruits = ['banana', 'mango', 'apple', 'orange', 'grape']\n",
    "for fruit in fruits:\n",
    "    if fruit == 'apple':\n",
    "        continue\n",
    "    print(fruit)"
   ]
  },
  {
   "cell_type": "markdown",
   "metadata": {},
   "source": [
    "## EXERCISE:"
   ]
  },
  {
   "cell_type": "markdown",
   "metadata": {},
   "source": [
    "In this exercise, initialise a **variable** with a number between **1 and 20**. Giving the user **6 chances**, tell the user to **guess your chosen number**. Tell the user if his/her **chosen number** is **greater or lesser than** your **chosen number** or if he/she **guessed your chosen number right**."
   ]
  },
  {
   "cell_type": "code",
   "execution_count": null,
   "metadata": {},
   "outputs": [
    {
     "name": "stdin",
     "output_type": "stream",
     "text": [
      "Guess a number between 1 and 20 12\n"
     ]
    },
    {
     "name": "stdout",
     "output_type": "stream",
     "text": [
      "Your guess is less than the chosen number\n",
      "You have 5 chances left\n"
     ]
    },
    {
     "name": "stdin",
     "output_type": "stream",
     "text": [
      "Guess a number between 1 and 20 22\n"
     ]
    },
    {
     "name": "stdout",
     "output_type": "stream",
     "text": [
      "Your guess is greater than the chosen number\n",
      "You have 4 chances left\n"
     ]
    }
   ],
   "source": [
    "n = 15\n",
    "chance = 1\n",
    "while (chance <=6):\n",
    "    guess = int(input('Guess a number between 1 and 20'))\n",
    "    if guess == n:\n",
    "        print('Your guess is right')\n",
    "        break\n",
    "    elif (guess > n):\n",
    "        print('Your guess is greater than the chosen number')\n",
    "    else:\n",
    "        print('Your guess is less than the chosen number') \n",
    "    \n",
    "    if chance == 6:\n",
    "        print('Chances exhausted')\n",
    "    else:\n",
    "        print(f\"You have {6 - chance} chances left\")      \n",
    "    chance +=1         "
   ]
  },
  {
   "cell_type": "markdown",
   "metadata": {},
   "source": [
    "Write a program that accepts the speed of a driver as input.\n",
    "i. If speed is less than 70, it should print “Ok”.\n",
    "ii. Otherwise, for **every 5km/hr** above the speed limit (70), it should give the driver one demerit point and print the total number of demerit points. For example, if the speed is 80, it should print: “Points: 2”.\n",
    "iii. If the driver gets **more than 12 points**, the function should print: **“License suspended”**\n"
   ]
  },
  {
   "cell_type": "markdown",
   "metadata": {},
   "source": [
    "###### "
   ]
  }
 ],
 "metadata": {
  "kernelspec": {
   "display_name": "Python 3 (ipykernel)",
   "language": "python",
   "name": "python3"
  },
  "language_info": {
   "codemirror_mode": {
    "name": "ipython",
    "version": 3
   },
   "file_extension": ".py",
   "mimetype": "text/x-python",
   "name": "python",
   "nbconvert_exporter": "python",
   "pygments_lexer": "ipython3",
   "version": "3.9.7"
  }
 },
 "nbformat": 4,
 "nbformat_minor": 4
}
